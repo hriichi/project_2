{
  "nbformat": 4,
  "nbformat_minor": 0,
  "metadata": {
    "colab": {
      "provenance": [],
      "authorship_tag": "ABX9TyN8upCmAQTdieJ/azUKfSZd",
      "include_colab_link": true
    },
    "kernelspec": {
      "name": "python3",
      "display_name": "Python 3"
    },
    "language_info": {
      "name": "python"
    }
  },
  "cells": [
    {
      "cell_type": "markdown",
      "metadata": {
        "id": "view-in-github",
        "colab_type": "text"
      },
      "source": [
        "<a href=\"https://colab.research.google.com/github/hriichi/project_2/blob/main/women_cloth_reviews_prediction_with_multi_naive_bayes.ipynb\" target=\"_parent\"><img src=\"https://colab.research.google.com/assets/colab-badge.svg\" alt=\"Open In Colab\"/></a>"
      ]
    },
    {
      "cell_type": "markdown",
      "source": [
        "**Title of Project: Women's Clothing Reviews Prediction using Multinomial Naive Bayes**\n",
        "\n",
        "Objective:\n",
        "To build a machine learning model that predicts whether women's clothing items are recommended based on their reviews.\n",
        "\n",
        "Data Source:\n",
        "The dataset is manually created for this project, containing review text and whether the item was recommended (1 for recommended, 0 for not recommended).\n",
        "\n",
        "Import Library:\n"
      ],
      "metadata": {
        "id": "y-74o5-lUYwt"
      }
    },
    {
      "cell_type": "code",
      "source": [
        "import pandas as pd\n",
        "from sklearn.model_selection import train_test_split\n",
        "from sklearn.feature_extraction.text import CountVectorizer\n",
        "from sklearn.naive_bayes import MultinomialNB\n",
        "from sklearn.metrics import accuracy_score, classification_report\n",
        "from google.colab import files"
      ],
      "metadata": {
        "id": "KQg-V70wUgZx"
      },
      "execution_count": null,
      "outputs": []
    },
    {
      "cell_type": "markdown",
      "source": [
        "Import Data"
      ],
      "metadata": {
        "id": "2WJjdMBbUjQn"
      }
    },
    {
      "cell_type": "code",
      "source": [
        "# Create a dictionary with review data\n",
        "reviews_data = {\n",
        "    'Review Text': ['This dress fits perfectly and looks great!',\n",
        "                    'The fabric of this shirt is really soft and comfortable.',\n",
        "                    'I love this skirt, it\\'s so stylish and flattering.',\n",
        "                    'The quality of this top is disappointing, it ripped after one wash.',\n",
        "                    'These pants are too tight and uncomfortable to wear.',\n",
        "                    'This blouse is cute but the color faded after a few washes.'],\n",
        "    'Recommended': [1, 1, 1, 0, 0, 0]  # 1 for recommended, 0 for not recommended\n",
        "}\n",
        "\n",
        "# Create a DataFrame from the dictionary\n",
        "reviews_df = pd.DataFrame(reviews_data)"
      ],
      "metadata": {
        "id": "XYBAh69FUruY"
      },
      "execution_count": null,
      "outputs": []
    },
    {
      "cell_type": "markdown",
      "source": [
        "Describe Data:\n",
        "The dataset consists of review text and a binary label indicating whether the clothing item was recommended or not.\n",
        "\n",
        "Data Visualization:\n",
        "Since this is a small dataset with only text data and binary labels, data visualization may not be necessary.\n",
        "\n",
        "Data Preprocessing:\n",
        "No explicit data preprocessing is required as the data is already in a suitable format.\n",
        "\n",
        "Define Target Variable (y) and Feature Variables (X):\n",
        "\n",
        "Target Variable (y): 'Recommended' column\n",
        "Feature Variable (X): 'Review Text' column\n",
        "\n",
        "Train Test Split:"
      ],
      "metadata": {
        "id": "2T6nQWSiUuzW"
      }
    },
    {
      "cell_type": "code",
      "source": [
        "X = reviews_df['Review Text']\n",
        "y = reviews_df['Recommended']\n",
        "X_train, X_test, y_train, y_test = train_test_split(X, y, test_size=0.2, random_state=42)"
      ],
      "metadata": {
        "id": "vT3EdGKuUztr"
      },
      "execution_count": null,
      "outputs": []
    },
    {
      "cell_type": "markdown",
      "source": [
        "Modeling:\n"
      ],
      "metadata": {
        "id": "S1aC90BeU-W_"
      }
    },
    {
      "cell_type": "code",
      "source": [
        "# Vectorize the text data\n",
        "vectorizer = CountVectorizer()\n",
        "X_train_vec = vectorizer.fit_transform(X_train)\n",
        "X_test_vec = vectorizer.transform(X_test)\n",
        "\n",
        "# Initialize and train the Multinomial Naive Bayes model\n",
        "clf = MultinomialNB()\n",
        "clf.fit(X_train_vec, y_train)"
      ],
      "metadata": {
        "id": "DbhZQG0DVAIT"
      },
      "execution_count": null,
      "outputs": []
    },
    {
      "cell_type": "markdown",
      "source": [
        "Model Evaluation:\n"
      ],
      "metadata": {
        "id": "P0E4IO1UVCRa"
      }
    },
    {
      "cell_type": "code",
      "source": [
        "# Make predictions\n",
        "y_pred = clf.predict(X_test_vec)\n",
        "\n",
        "# Evaluate the model\n",
        "accuracy = accuracy_score(y_test, y_pred)\n",
        "print(f\"Accuracy: {accuracy}\")\n",
        "\n",
        "# Classification report\n",
        "print(\"Classification Report:\")\n",
        "print(classification_report(y_test, y_pred))"
      ],
      "metadata": {
        "id": "XVJt8J1fVEyU"
      },
      "execution_count": null,
      "outputs": []
    },
    {
      "cell_type": "markdown",
      "source": [
        "Prediction:\n",
        "No explicit prediction step is needed as the model was already evaluated on the test set.\n",
        "\n",
        "Explanation:\n",
        "The project aimed to predict whether women's clothing items are recommended based on their reviews using a Multinomial Naive Bayes classifier. The dataset was manually created for this purpose, and the model achieved a certain accuracy score on the test set. This type of model can be useful for retailers to understand customer feedback and improve their products."
      ],
      "metadata": {
        "id": "X-krU1vHVHha"
      }
    }
  ]
}